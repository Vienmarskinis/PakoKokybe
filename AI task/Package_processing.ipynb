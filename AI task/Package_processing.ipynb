{
 "cells": [
  {
   "cell_type": "markdown",
   "metadata": {},
   "source": [
    "Importing OpenCV and Tesseract libraries."
   ]
  },
  {
   "cell_type": "code",
   "execution_count": 1,
   "metadata": {},
   "outputs": [],
   "source": [
    "import cv2\n",
    "import pytesseract\n",
    "import numpy as np\n",
    "import regex as re\n",
    "\n",
    "pytesseract.pytesseract.tesseract_cmd = 'C:\\\\Program Files\\\\Tesseract-OCR\\\\tesseract.exe'"
   ]
  },
  {
   "cell_type": "code",
   "execution_count": 2,
   "metadata": {},
   "outputs": [
    {
     "data": {
      "text/plain": [
       "'0.3.10'"
      ]
     },
     "execution_count": 2,
     "metadata": {},
     "output_type": "execute_result"
    }
   ],
   "source": [
    "import pkg_resources\n",
    "pkg_resources.working_set.by_key['pytesseract'].version"
   ]
  },
  {
   "cell_type": "markdown",
   "metadata": {},
   "source": [
    "This can extract a cartboard box from image using visual processing. Only works when box is moving on a different color conveyor. Uses color separation."
   ]
  },
  {
   "cell_type": "code",
   "execution_count": 3,
   "metadata": {},
   "outputs": [
    {
     "data": {
      "text/plain": [
       "True"
      ]
     },
     "execution_count": 3,
     "metadata": {},
     "output_type": "execute_result"
    }
   ],
   "source": [
    "img = cv2.imread('package.jpg')\n",
    "hsv = cv2.cvtColor(img, cv2.COLOR_BGR2HSV)\n",
    "th = cv2.threshold(hsv[:,:,0],127,255,cv2.THRESH_BINARY_INV+cv2.THRESH_OTSU)[1]\n",
    "\n",
    "def get_region(image):\n",
    "    contours, hierarchy = cv2.findContours(image, cv2.RETR_EXTERNAL, cv2.CHAIN_APPROX_NONE)\n",
    "    c = max(contours, key = cv2.contourArea)\n",
    "    black = np.zeros((image.shape[0], image.shape[1]), np.uint8)\n",
    "    mask = cv2.drawContours(black,[c],0,255, -1)\n",
    "    return mask\n",
    "\n",
    "mask = get_region(th)\n",
    "\n",
    "masked_img = cv2.bitwise_and(img, img, mask = mask)\n",
    "\n",
    "cv2.imwrite(\"masked_image.jpg\", masked_img)"
   ]
  },
  {
   "cell_type": "markdown",
   "metadata": {},
   "source": [
    "Transforming image using OpenCV and extracting numbers using Tesseract. The image is blurred, thresholded and diluted. Then Tesseract extracts test with flags to only search for digits."
   ]
  },
  {
   "cell_type": "code",
   "execution_count": 4,
   "metadata": {},
   "outputs": [],
   "source": [
    "def getText2(name, fileIsImage=False):\n",
    "    # If fileIsImage = False, reads image from file, otherwise assumes image is already given\n",
    "    if(not fileIsImage):\n",
    "        img = cv2.imread(name)\n",
    "    else:\n",
    "        img = name\n",
    "    gray = cv2.cvtColor(img, cv2.COLOR_BGR2GRAY)\n",
    "    #noise removal\n",
    "    noise=cv2.medianBlur(gray,3)\n",
    "    # thresholding# converting it to binary image by Thresholding\n",
    "    # this step is require if you have colored image because if you skip this part\n",
    "    # then tesseract won’t able to detect text correctly and this will give incorrect #result\n",
    "    thresh = cv2.threshold(noise, 0, 255, cv2.THRESH_BINARY | cv2.THRESH_OTSU)[1]\n",
    "    # thresh = cv2.bitwise_not(thresh)\n",
    "    cv2.imwrite(\"transformed.png\", thresh)\n",
    "    # Using tesseract to extract numbers\n",
    "    # txt = pytesseract.image_to_string(thresh)\n",
    "    txt = pytesseract.image_to_string(thresh, config=\"--psm 6 digits\")\n",
    "    return txt"
   ]
  },
  {
   "cell_type": "markdown",
   "metadata": {},
   "source": [
    "FACT: vid_1 has 11 boxes captured"
   ]
  },
  {
   "cell_type": "code",
   "execution_count": 5,
   "metadata": {},
   "outputs": [],
   "source": [
    "def getNumber(image):\n",
    "    # grayscale\n",
    "    result = image.copy()\n",
    "    gray = cv2.cvtColor(image,cv2.COLOR_BGR2GRAY)\n",
    "\n",
    "\n",
    "    # adaptive threshold\n",
    "    thresh = cv2.adaptiveThreshold(gray,255,cv2.ADAPTIVE_THRESH_GAUSSIAN_C, cv2.THRESH_BINARY_INV,51,9)\n",
    "\n",
    "\n",
    "    # Fill rectangular contours\n",
    "    cnts = cv2.findContours(thresh, cv2.RETR_EXTERNAL, cv2.CHAIN_APPROX_SIMPLE)\n",
    "    cnts = cnts[0] if len(cnts) == 2 else cnts[1]\n",
    "    for c in cnts:\n",
    "        cv2.drawContours(thresh, [c], -1, (255,255,255), -1)\n",
    "\n",
    "    # Morph open\n",
    "    kernel = cv2.getStructuringElement(cv2.MORPH_RECT, (9,9))\n",
    "    opening = cv2.morphologyEx(thresh, cv2.MORPH_OPEN, kernel, iterations=4)\n",
    "\n",
    "\n",
    "    # Draw rectangles, the 'area_treshold' value was determined empirically\n",
    "    cnts = cv2.findContours(opening, cv2.RETR_EXTERNAL, cv2.CHAIN_APPROX_SIMPLE)\n",
    "    cnts = cnts[0] if len(cnts) == 2 else cnts[1]\n",
    "    area_treshold = 4000\n",
    "    for i,c in enumerate(cnts):\n",
    "        if cv2.contourArea(c) > area_treshold :\n",
    "            x,y,w,h = cv2.boundingRect(c)\n",
    "            cropimage=image[y:y+h,x:x+w]\n",
    "            cv2.imwrite(f'realImage{i}.jpg',cropimage)\n",
    "            text = getText2(cropimage, True)\n",
    "            if re.search('[0-9]+\\.[0-9]+\\.[0-9]+',text):\n",
    "                return text.rstrip()"
   ]
  },
  {
   "cell_type": "code",
   "execution_count": null,
   "metadata": {},
   "outputs": [],
   "source": [
    "path = \"vid_1.MOV\"\n",
    "VALIDCODE='504.832.89'\n",
    "vidcap = cv2.VideoCapture(path)\n",
    "rateReduction = 40\n",
    "framenbr = 0\n",
    "success,frame = vidcap.read()\n",
    "count = 0\n",
    "\n",
    "numberList=list()\n",
    "boxList=['1.1.1', '1.1.1', '1.1.1']\n",
    "resultList=list()\n",
    "\n",
    "while success:\n",
    "    success, frame = vidcap.read()\n",
    "    if not success:\n",
    "        break\n",
    "    # cv2.imwrite(\"frame%d.png\" % framenbr, frame) \n",
    "    num = getNumber(frame)\n",
    "    # list with all numbers\n",
    "    numberList.append(num)\n",
    "    # find results\n",
    "    if num is None and boxList is not None:\n",
    "        result = max(set(boxList), key =boxList.count)\n",
    "        resultList.append(result)\n",
    "        if result != VALIDCODE:\n",
    "            print(f\"ERROR: {VALIDCODE} expected, {result} found!!!\")\n",
    "        boxList = None\n",
    "    elif num is not None:\n",
    "        if boxList is None:\n",
    "            boxList=list()\n",
    "        boxList.append(num)\n",
    "    count += rateReduction # i.e. at 30 fps, this advances one second\n",
    "    vidcap.set(cv2.CAP_PROP_POS_FRAMES, count)\n",
    "    # print(text)\n",
    "    framenbr += 1"
   ]
  },
  {
   "cell_type": "code",
   "execution_count": null,
   "metadata": {},
   "outputs": [],
   "source": [
    "resultList"
   ]
  },
  {
   "cell_type": "code",
   "execution_count": null,
   "metadata": {},
   "outputs": [
    {
     "data": {
      "text/plain": [
       "0"
      ]
     },
     "execution_count": 70,
     "metadata": {},
     "output_type": "execute_result"
    },
    {
     "ename": "",
     "evalue": "",
     "output_type": "error",
     "traceback": [
      "\u001b[1;31mThe Kernel crashed while executing code in the the current cell or a previous cell. Please review the code in the cell(s) to identify a possible cause of the failure. Click <a href='https://aka.ms/vscodeJupyterKernelCrash'>here</a> for more info. View Jupyter <a href='command:jupyter.viewOutput'>log</a> for further details."
     ]
    }
   ],
   "source": [
    "#load the image\n",
    "image = cv2.imread('frame10.png')\n",
    "\n",
    "# grayscale\n",
    "result = image.copy()\n",
    "gray = cv2.cvtColor(image,cv2.COLOR_BGR2GRAY)\n",
    "cv2.imwrite(\"testGray.jpg\", gray) \n",
    "\n",
    "# adaptive threshold\n",
    "thresh = cv2.adaptiveThreshold(gray,255,cv2.ADAPTIVE_THRESH_GAUSSIAN_C, cv2.THRESH_BINARY_INV,51,9)\n",
    "cv2.imwrite(\"testhresh.jpg\", thresh) \n",
    "\n",
    "# Fill rectangular contours\n",
    "cnts = cv2.findContours(thresh, cv2.RETR_EXTERNAL, cv2.CHAIN_APPROX_SIMPLE)\n",
    "cnts = cnts[0] if len(cnts) == 2 else cnts[1]\n",
    "for c in cnts:\n",
    "    cv2.drawContours(thresh, [c], -1, (255,255,255), -1)\n",
    "\n",
    "# Morph open\n",
    "kernel = cv2.getStructuringElement(cv2.MORPH_RECT, (9,9))\n",
    "opening = cv2.morphologyEx(thresh, cv2.MORPH_OPEN, kernel, iterations=4)\n",
    "cv2.imwrite(\"testopen.jpg\", opening)\n",
    "\n",
    "# Draw rectangles, the 'area_treshold' value was determined empirically\n",
    "cnts = cv2.findContours(opening, cv2.RETR_EXTERNAL, cv2.CHAIN_APPROX_SIMPLE)\n",
    "cnts = cnts[0] if len(cnts) == 2 else cnts[1]\n",
    "area_treshold = 4000\n",
    "for c in cnts:\n",
    "    if cv2.contourArea(c) > area_treshold :\n",
    "      x,y,w,h = cv2.boundingRect(c)\n",
    "      cv2.rectangle(image, (x, y), (x + w, y + h), (36,255,12), 3)\n",
    "\n",
    "cv2.imshow('thresh', thresh)\n",
    "cv2.imshow('opening', opening)\n",
    "cv2.imshow('image', image)\n",
    "cv2.waitKey()"
   ]
  }
 ],
 "metadata": {
  "kernelspec": {
   "display_name": "Python 3",
   "language": "python",
   "name": "python3"
  },
  "language_info": {
   "codemirror_mode": {
    "name": "ipython",
    "version": 3
   },
   "file_extension": ".py",
   "mimetype": "text/x-python",
   "name": "python",
   "nbconvert_exporter": "python",
   "pygments_lexer": "ipython3",
   "version": "3.10.9"
  },
  "orig_nbformat": 4,
  "vscode": {
   "interpreter": {
    "hash": "5e90b38eb84cde50b5eaea3897746e3537bf8205751844c2b0fe51c3f12d8e0c"
   }
  }
 },
 "nbformat": 4,
 "nbformat_minor": 2
}
