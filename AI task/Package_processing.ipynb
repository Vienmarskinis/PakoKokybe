{
 "cells": [
  {
   "cell_type": "markdown",
   "metadata": {},
   "source": [
    "Importing OpenCV and Tesseract libraries."
   ]
  },
  {
   "cell_type": "code",
   "execution_count": 229,
   "metadata": {},
   "outputs": [],
   "source": [
    "import cv2\n",
    "import pytesseract\n",
    "import numpy as np\n",
    "import regex as re\n",
    "\n",
    "pytesseract.pytesseract.tesseract_cmd = 'C:\\\\Program Files\\\\Tesseract-OCR\\\\tesseract.exe'"
   ]
  },
  {
   "cell_type": "markdown",
   "metadata": {},
   "source": [
    "This can extract a cartboard box from image using visual processing. Only works when box is moving on a different color conveyor. Uses color separation."
   ]
  },
  {
   "cell_type": "code",
   "execution_count": 230,
   "metadata": {},
   "outputs": [
    {
     "data": {
      "text/plain": [
       "True"
      ]
     },
     "execution_count": 230,
     "metadata": {},
     "output_type": "execute_result"
    }
   ],
   "source": [
    "img = cv2.imread('package.jpg')\n",
    "hsv = cv2.cvtColor(img, cv2.COLOR_BGR2HSV)\n",
    "th = cv2.threshold(hsv[:,:,0],127,255,cv2.THRESH_BINARY_INV+cv2.THRESH_OTSU)[1]\n",
    "\n",
    "def get_region(image):\n",
    "    contours, hierarchy = cv2.findContours(image, cv2.RETR_EXTERNAL, cv2.CHAIN_APPROX_NONE)\n",
    "    c = max(contours, key = cv2.contourArea)\n",
    "    black = np.zeros((image.shape[0], image.shape[1]), np.uint8)\n",
    "    mask = cv2.drawContours(black,[c],0,255, -1)\n",
    "    return mask\n",
    "\n",
    "mask = get_region(th)\n",
    "\n",
    "masked_img = cv2.bitwise_and(img, img, mask = mask)\n",
    "\n",
    "cv2.imwrite(\"masked_image.jpg\", masked_img)"
   ]
  },
  {
   "cell_type": "markdown",
   "metadata": {},
   "source": [
    "Reading image file"
   ]
  },
  {
   "cell_type": "code",
   "execution_count": 231,
   "metadata": {},
   "outputs": [],
   "source": [
    "filename = 'Picture2.jpg'\n",
    "mainImage = cv2.imread(filename)"
   ]
  },
  {
   "cell_type": "markdown",
   "metadata": {},
   "source": [
    "Method used for splitting image into 4 parts"
   ]
  },
  {
   "cell_type": "code",
   "execution_count": 232,
   "metadata": {},
   "outputs": [],
   "source": [
    "def splitImage(image):\n",
    "    width = image.shape[1]\n",
    "    # Cut the image in half\n",
    "    width_cutoff = width // 2\n",
    "    left1 = image[:, :width_cutoff]\n",
    "    right1 = image[:, width_cutoff:]\n",
    "    ##########################################\n",
    "    # Processing left side\n",
    "    ##########################################\n",
    "    # Rotating left side by 90 degrees and splitting it in half\n",
    "    image = cv2.rotate(left1, cv2.ROTATE_90_CLOCKWISE)\n",
    "    width = image.shape[1]\n",
    "    width_cutoff = width // 2\n",
    "    l1 = image[:, :width_cutoff]\n",
    "    l2 = image[:, width_cutoff:]\n",
    "    # Restoring rotation saving parts of image as new images\n",
    "    l1 = cv2.rotate(l1, cv2.ROTATE_90_COUNTERCLOCKWISE)\n",
    "    cv2.imwrite(\"bottom_left.jpg\", l1)\n",
    "    l2 = cv2.rotate(l2, cv2.ROTATE_90_COUNTERCLOCKWISE)\n",
    "    cv2.imwrite(\"top_left.jpg\", l2)\n",
    "    ##########################################\n",
    "    # Processing right side\n",
    "    ##########################################\n",
    "    # Rotating right side by 90 degrees and splitting it in half\n",
    "    image = cv2.rotate(right1, cv2.ROTATE_90_CLOCKWISE)\n",
    "    width = image.shape[1]\n",
    "    width_cutoff = width // 2\n",
    "    r1 = image[:, :width_cutoff]\n",
    "    r2 = image[:, width_cutoff:]\n",
    "    # Restoring rotation saving parts of image as new images\n",
    "    r1 = cv2.rotate(r1, cv2.ROTATE_90_COUNTERCLOCKWISE)\n",
    "    cv2.imwrite(\"bottom_right.jpg\", r1)\n",
    "    r2 = cv2.rotate(r2, cv2.ROTATE_90_COUNTERCLOCKWISE)\n",
    "    cv2.imwrite(\"top_right.jpg\", r2)\n",
    "    image_data = [l1, l2, r1, r2]\n",
    "\n",
    "    return image_data"
   ]
  },
  {
   "cell_type": "markdown",
   "metadata": {},
   "source": [
    "Transforming image using OpenCV and extracting numbers using Tesseract. The image is blurred, thresholded and diluted. Then Tesseract extracts test with flags to only search for digits."
   ]
  },
  {
   "cell_type": "code",
   "execution_count": 233,
   "metadata": {},
   "outputs": [],
   "source": [
    "def getText(name, fileIsImage=False):\n",
    "    if(not fileIsImage):\n",
    "        img = cv2.imread(name)\n",
    "    else:\n",
    "        img = name\n",
    "    # Converting image colorspace from BGR(Blue Green Red) to HSV(Hue Saturation Value) for processing\n",
    "    HSV_img = cv2.cvtColor(img, cv2.COLOR_BGR2HSV)\n",
    "    # Splitting image values into 3 variables\n",
    "    h,s,v = cv2.split(HSV_img)\n",
    "    # Removing image noise using Gaussian Blur\n",
    "    v = cv2.GaussianBlur(v, (1,1), 0)\n",
    "    # Using Otsu's thresholding algorithm to clear up the image\n",
    "    thresh = cv2.threshold(v, 0, 255, cv2.THRESH_BINARY_INV + cv2.THRESH_OTSU)[1]\n",
    "    # Saving processed image\n",
    "    kernel = cv2.getStructuringElement(cv2.MORPH_RECT, ksize=(1, 2))\n",
    "    # Dilating image\n",
    "    thresh = cv2.dilate(thresh, kernel)\n",
    "    # Using tesseract to extract numbers\n",
    "    txt = pytesseract.image_to_string(thresh, config=\"--psm 6 digits\")\n",
    "    return txt\n",
    "    "
   ]
  },
  {
   "cell_type": "code",
   "execution_count": 234,
   "metadata": {},
   "outputs": [
    {
     "name": "stdout",
     "output_type": "stream",
     "text": [
      "Found\n",
      "15.5...920..2..9826234903.8348..57..0.2\n"
     ]
    }
   ],
   "source": [
    "searchID = '903.834.57'\n",
    "images = splitImage(mainImage)\n",
    "for image in images:\n",
    "    text = getText(image, True)\n",
    "    text = re.sub('[^\\d\\.]', '', text)\n",
    "    if(searchID in text):\n",
    "        print(\"Found\")\n",
    "        break\n",
    "    print(\"Not found\")"
   ]
  }
 ],
 "metadata": {
  "kernelspec": {
   "display_name": "Python 3.10.7 64-bit",
   "language": "python",
   "name": "python3"
  },
  "language_info": {
   "codemirror_mode": {
    "name": "ipython",
    "version": 3
   },
   "file_extension": ".py",
   "mimetype": "text/x-python",
   "name": "python",
   "nbconvert_exporter": "python",
   "pygments_lexer": "ipython3",
   "version": "3.10.8"
  },
  "orig_nbformat": 4,
  "vscode": {
   "interpreter": {
    "hash": "c813da0d88532624e95401f841607d640ef6d724b81c00ab0d0885f617a921c3"
   }
  }
 },
 "nbformat": 4,
 "nbformat_minor": 2
}
