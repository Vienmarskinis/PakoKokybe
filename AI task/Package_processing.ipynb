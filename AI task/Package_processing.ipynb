{
 "cells": [
  {
   "cell_type": "markdown",
   "metadata": {},
   "source": [
    "Importing OpenCV and Tesseract libraries."
   ]
  },
  {
   "cell_type": "code",
   "execution_count": null,
   "metadata": {},
   "outputs": [],
   "source": [
    "import cv2\n",
    "import pytesseract\n",
    "\n",
    "pytesseract.pytesseract.tesseract_cmd = 'C:\\\\Program Files\\\\Tesseract-OCR\\\\tesseract.exe'"
   ]
  },
  {
   "cell_type": "markdown",
   "metadata": {},
   "source": [
    "Reading image file"
   ]
  },
  {
   "cell_type": "code",
   "execution_count": null,
   "metadata": {},
   "outputs": [],
   "source": [
    "filename = 'Picture2.jpg'\n",
    "img = cv2.imread(filename)"
   ]
  },
  {
   "cell_type": "markdown",
   "metadata": {},
   "source": [
    "Method used for splitting image into 4 parts"
   ]
  },
  {
   "cell_type": "code",
   "execution_count": null,
   "metadata": {},
   "outputs": [],
   "source": [
    "def splitImage(image):\n",
    "    image_data = []\n",
    "    width = img.shape[1]\n",
    "    # Cut the image in half\n",
    "    width_cutoff = width // 2\n",
    "    left1 = img[:, :width_cutoff]\n",
    "    right1 = img[:, width_cutoff:]\n",
    "    ##########################################\n",
    "    # Processing left side\n",
    "    ##########################################\n",
    "    # Rotating left side by 90 degrees and splitting it in half\n",
    "    img = cv2.rotate(left1, cv2.ROTATE_90_CLOCKWISE)\n",
    "    width = img.shape[1]\n",
    "    width_cutoff = width // 2\n",
    "    l1 = img[:, :width_cutoff]\n",
    "    l2 = img[:, width_cutoff:]\n",
    "    # Restoring rotation saving parts of image as new images\n",
    "    l1 = cv2.rotate(l1, cv2.ROTATE_90_COUNTERCLOCKWISE)\n",
    "    cv2.imwrite(\"bottom_left.jpg\", l1)\n",
    "    l2 = cv2.rotate(l2, cv2.ROTATE_90_COUNTERCLOCKWISE)\n",
    "    cv2.imwrite(\"top_left.jpg\", l2)\n",
    "    ##########################################\n",
    "    # Processing right side\n",
    "    ##########################################\n",
    "    # Rotating right side by 90 degrees and splitting it in half\n",
    "    img = cv2.rotate(right1, cv2.ROTATE_90_CLOCKWISE)\n",
    "    width = img.shape[1]\n",
    "    width_cutoff = width // 2\n",
    "    r1 = img[:, :width_cutoff]\n",
    "    r2 = img[:, width_cutoff:]\n",
    "    # Restoring rotation saving parts of image as new images\n",
    "    r1 = cv2.rotate(r1, cv2.ROTATE_90_COUNTERCLOCKWISE)\n",
    "    cv2.imwrite(\"bottom_right.jpg\", r1)\n",
    "    r2 = cv2.rotate(r2, cv2.ROTATE_90_COUNTERCLOCKWISE)\n",
    "    cv2.imwrite(\"top_right.jpg\", r2)\n",
    "    image_data.append(l1, l2, r1, r2)\n",
    "    return image_data"
   ]
  },
  {
   "cell_type": "markdown",
   "metadata": {},
   "source": [
    "Transforming image using OpenCV and extracting numbers using Tesseract. The image is blurred, thresholded and diluted. Then Tesseract extracts test with flags to only search for digits."
   ]
  },
  {
   "cell_type": "code",
   "execution_count": 23,
   "metadata": {},
   "outputs": [],
   "source": [
    "def getText(filename):\n",
    "    img = cv2.imread(filename)\n",
    "    # Converting image colorspace from BGR(Blue Green Red) to HSV(Hue Saturation Value) for processing\n",
    "    HSV_img = cv2.cvtColor(img, cv2.COLOR_BGR2HSV)\n",
    "    # Splitting image values into 3 variables\n",
    "    h,s,v = cv2.split(HSV_img)\n",
    "    # Removing image noise using Gaussian Blur\n",
    "    v = cv2.GaussianBlur(v, (1,1), 0)\n",
    "    # Using Otsu's thresholding algorithm to clear up the image\n",
    "    thresh = cv2.threshold(v, 0, 255, cv2.THRESH_BINARY_INV + cv2.THRESH_OTSU)[1]\n",
    "    # Saving processed image\n",
    "    cv2.imwrite('{}.png'.format(filename),thresh)\n",
    "    kernel = cv2.getStructuringElement(cv2.MORPH_RECT, ksize=(1, 2))\n",
    "    # Dilating image\n",
    "    thresh = cv2.dilate(thresh, kernel)\n",
    "    cv2.imwrite('{}.png'.format(\"dilated_\"+ filename), thresh)\n",
    "    # Using tesseract to extract numbers\n",
    "    txt = pytesseract.image_to_string(thresh, config=\"--psm 6 digits\")\n",
    "    return txt\n",
    "    "
   ]
  },
  {
   "cell_type": "code",
   "execution_count": 24,
   "metadata": {},
   "outputs": [
    {
     "name": "stdout",
     "output_type": "stream",
     "text": [
      "2\n",
      "903.834.57\n",
      "\n"
     ]
    }
   ],
   "source": [
    "text = getText('bottom_left.jpg')\n",
    "print(text)"
   ]
  }
 ],
 "metadata": {
  "kernelspec": {
   "display_name": "Python 3.10.7 64-bit",
   "language": "python",
   "name": "python3"
  },
  "language_info": {
   "codemirror_mode": {
    "name": "ipython",
    "version": 3
   },
   "file_extension": ".py",
   "mimetype": "text/x-python",
   "name": "python",
   "nbconvert_exporter": "python",
   "pygments_lexer": "ipython3",
   "version": "3.10.7"
  },
  "orig_nbformat": 4,
  "vscode": {
   "interpreter": {
    "hash": "c813da0d88532624e95401f841607d640ef6d724b81c00ab0d0885f617a921c3"
   }
  }
 },
 "nbformat": 4,
 "nbformat_minor": 2
}
