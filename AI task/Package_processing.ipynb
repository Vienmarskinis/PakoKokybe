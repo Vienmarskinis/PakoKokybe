{
 "cells": [
  {
   "cell_type": "markdown",
   "metadata": {},
   "source": [
    "Importing OpenCV and Tesseract libraries."
   ]
  },
  {
   "cell_type": "code",
   "execution_count": 33,
   "metadata": {},
   "outputs": [],
   "source": [
    "import cv2\n",
    "import pytesseract\n",
    "import numpy as np\n",
    "import regex as re\n",
    "\n",
    "pytesseract.pytesseract.tesseract_cmd = 'C:\\\\Program Files\\\\Tesseract-OCR\\\\tesseract.exe'"
   ]
  },
  {
   "cell_type": "markdown",
   "metadata": {},
   "source": [
    "This can extract a cartboard box from image using visual processing. Only works when box is moving on a different color conveyor. Uses color separation."
   ]
  },
  {
   "cell_type": "code",
   "execution_count": 34,
   "metadata": {},
   "outputs": [
    {
     "data": {
      "text/plain": [
       "True"
      ]
     },
     "execution_count": 34,
     "metadata": {},
     "output_type": "execute_result"
    }
   ],
   "source": [
    "img = cv2.imread('package.jpg')\n",
    "hsv = cv2.cvtColor(img, cv2.COLOR_BGR2HSV)\n",
    "th = cv2.threshold(hsv[:,:,0],127,255,cv2.THRESH_BINARY_INV+cv2.THRESH_OTSU)[1]\n",
    "\n",
    "def get_region(image):\n",
    "    contours, hierarchy = cv2.findContours(image, cv2.RETR_EXTERNAL, cv2.CHAIN_APPROX_NONE)\n",
    "    c = max(contours, key = cv2.contourArea)\n",
    "    black = np.zeros((image.shape[0], image.shape[1]), np.uint8)\n",
    "    mask = cv2.drawContours(black,[c],0,255, -1)\n",
    "    return mask\n",
    "\n",
    "mask = get_region(th)\n",
    "\n",
    "masked_img = cv2.bitwise_and(img, img, mask = mask)\n",
    "\n",
    "cv2.imwrite(\"masked_image.jpg\", masked_img)"
   ]
  },
  {
   "cell_type": "markdown",
   "metadata": {},
   "source": [
    "Reading image file"
   ]
  },
  {
   "cell_type": "code",
   "execution_count": 35,
   "metadata": {},
   "outputs": [],
   "source": [
    "img = cv2.imread(\"Picture1.jpg.png\")\n",
    "height, width, channel = img.shape\n",
    "\n",
    "\n",
    "def process(img):\n",
    "    img_gray = cv2.cvtColor(img, cv2.COLOR_BGR2GRAY)\n",
    "    _, thresh = cv2.threshold(img_gray, 128, 255, cv2.THRESH_BINARY)\n",
    "    img_blur = cv2.GaussianBlur(thresh, (5, 5), 2)\n",
    "    img_canny = cv2.Canny(img_blur, 0, 0)\n",
    "    return img_canny\n",
    "\n",
    "def get_contours(img):\n",
    "    contours, _ = cv2.findContours(process(img), cv2.RETR_TREE, cv2.CHAIN_APPROX_NONE)\n",
    "    r1, r2 = sorted(contours, key=cv2.contourArea)[-3:-1]\n",
    "    x, y, w, h = cv2.boundingRect(np.r_[r1, r2])\n",
    "    cv2.rectangle(img, (x, y), (x + w, y + h), (0, 0, 255), 2)\n",
    "    ROI = img[y:y+h, x:x+w]\n",
    "    cv2.imwrite('bounds.jpg', ROI)\n",
    "    return ROI"
   ]
  },
  {
   "cell_type": "code",
   "execution_count": 36,
   "metadata": {},
   "outputs": [],
   "source": [
    "filename = 'bounds.jpg'\n",
    "mainImage = cv2.imread(filename)"
   ]
  },
  {
   "cell_type": "markdown",
   "metadata": {},
   "source": [
    "Method used for splitting image into 4 parts"
   ]
  },
  {
   "cell_type": "code",
   "execution_count": 37,
   "metadata": {},
   "outputs": [],
   "source": [
    "def splitImage(image):\n",
    "    width = image.shape[1]\n",
    "    # Cut the image in half\n",
    "    width_cutoff = width // 2\n",
    "    left1 = image[:, :width_cutoff]\n",
    "    right1 = image[:, width_cutoff:]\n",
    "    ##########################################\n",
    "    # Processing left side\n",
    "    ##########################################\n",
    "    # Rotating left side by 90 degrees and splitting it in half\n",
    "    image = cv2.rotate(left1, cv2.ROTATE_90_CLOCKWISE)\n",
    "    width = image.shape[1]\n",
    "    width_cutoff = width // 2\n",
    "    l1 = image[:, :width_cutoff]\n",
    "    l2 = image[:, width_cutoff:]\n",
    "    # Restoring rotation saving parts of image as new images\n",
    "    l1 = cv2.rotate(l1, cv2.ROTATE_90_COUNTERCLOCKWISE)\n",
    "    cv2.imwrite(\"bottom_left.jpg\", l1)\n",
    "    l2 = cv2.rotate(l2, cv2.ROTATE_90_COUNTERCLOCKWISE)\n",
    "    cv2.imwrite(\"top_left.jpg\", l2)\n",
    "    ##########################################\n",
    "    # Processing right side\n",
    "    ##########################################\n",
    "    # Rotating right side by 90 degrees and splitting it in half\n",
    "    image = cv2.rotate(right1, cv2.ROTATE_90_CLOCKWISE)\n",
    "    width = image.shape[1]\n",
    "    width_cutoff = width // 2\n",
    "    r1 = image[:, :width_cutoff]\n",
    "    r2 = image[:, width_cutoff:]\n",
    "    # Restoring rotation saving parts of image as new images\n",
    "    r1 = cv2.rotate(r1, cv2.ROTATE_90_COUNTERCLOCKWISE)\n",
    "    cv2.imwrite(\"bottom_right.jpg\", r1)\n",
    "    r2 = cv2.rotate(r2, cv2.ROTATE_90_COUNTERCLOCKWISE)\n",
    "    cv2.imwrite(\"top_right.jpg\", r2)\n",
    "    image_data = [l1, l2, r1, r2]\n",
    "\n",
    "    return image_data"
   ]
  },
  {
   "cell_type": "markdown",
   "metadata": {},
   "source": [
    "Transforming image using OpenCV and extracting numbers using Tesseract. The image is blurred, thresholded and diluted. Then Tesseract extracts test with flags to only search for digits."
   ]
  },
  {
   "cell_type": "code",
   "execution_count": 38,
   "metadata": {},
   "outputs": [],
   "source": [
    "def getText(name, fileIsImage=False):\n",
    "    # If fileIsImage = False, reads image from file, otherwise assumes image is already given\n",
    "    if(not fileIsImage):\n",
    "        img = cv2.imread(name)\n",
    "    else:\n",
    "        img = name\n",
    "    # Converting image colorspace from BGR(Blue Green Red) to HSV(Hue Saturation Value) for processing\n",
    "    HSV_img = cv2.cvtColor(img, cv2.COLOR_BGR2HSV)\n",
    "    # Splitting image values into 3 variables\n",
    "    h,s,v = cv2.split(HSV_img)\n",
    "    # Removing image noise using Gaussian Blur\n",
    "    v = cv2.GaussianBlur(v, (1,1), 0)\n",
    "    # Using Otsu's thresholding algorithm to clear up the image\n",
    "    thresh = cv2.threshold(v, 0, 255, cv2.THRESH_BINARY_INV + cv2.THRESH_OTSU)[1]\n",
    "    # Saving processed image\n",
    "    kernel = cv2.getStructuringElement(cv2.MORPH_RECT, ksize=(1, 2))\n",
    "    # Dilating image\n",
    "    thresh = cv2.dilate(thresh, kernel)\n",
    "    cv2.imwrite(\"transformed.png\", thresh)\n",
    "    # Using tesseract to extract numbers\n",
    "    txt = pytesseract.image_to_string(thresh, config=\"--psm 6 digits\")\n",
    "    return txt\n",
    "    "
   ]
  },
  {
   "cell_type": "code",
   "execution_count": 39,
   "metadata": {},
   "outputs": [],
   "source": [
    "def getText2(name, fileIsImage=False):\n",
    "    # If fileIsImage = False, reads image from file, otherwise assumes image is already given\n",
    "    if(not fileIsImage):\n",
    "        img = cv2.imread(name)\n",
    "    else:\n",
    "        img = name\n",
    "    gray = cv2.cvtColor(img, cv2.COLOR_BGR2GRAY)\n",
    "    #noise removal\n",
    "    noise=cv2.medianBlur(gray,3)\n",
    "    # thresholding# converting it to binary image by Thresholding\n",
    "    # this step is require if you have colored image because if you skip this part\n",
    "    # then tesseract won’t able to detect text correctly and this will give incorrect #result\n",
    "    thresh = cv2.threshold(noise, 0, 255, cv2.THRESH_BINARY | cv2.THRESH_OTSU)[1]\n",
    "    cv2.imwrite(\"transformed.png\", thresh)\n",
    "    # Using tesseract to extract numbers\n",
    "    txt = pytesseract.image_to_string(thresh, config=\"--psm 6 digits\")\n",
    "    return txt"
   ]
  },
  {
   "cell_type": "code",
   "execution_count": 40,
   "metadata": {},
   "outputs": [
    {
     "name": "stdout",
     "output_type": "stream",
     "text": [
      "7\n",
      "\n"
     ]
    }
   ],
   "source": [
    "text = getText(filename, False)\n",
    "print(text)"
   ]
  },
  {
   "cell_type": "code",
   "execution_count": 41,
   "metadata": {},
   "outputs": [
    {
     "name": "stdout",
     "output_type": "stream",
     "text": [
      "1 4148\n",
      "504832.89\n",
      "\n",
      ". 798\n",
      "2\n",
      "504.832.89\n",
      "\n",
      "504.832.89\n",
      "\n",
      ".\n",
      "4884\n",
      "504.832.89\n",
      "\n",
      "81\n",
      "504.832.89\n",
      "\n",
      "27475\n",
      "504.832.89\n",
      "\n",
      "7\n",
      "504.832.89\n",
      "\n",
      "38\n",
      "504.832.89\n",
      "\n",
      "504.832.89\n",
      "\n",
      "3\n",
      "504.832.89\n",
      "\n",
      "98\n",
      "899\n",
      "504.832.89\n",
      "\n",
      "55\n",
      "504.832.89\n",
      "\n",
      "88\n",
      "27\n",
      "504.832.89\n",
      "\n",
      "788\n",
      "504.832.89\n",
      "\n",
      "978\n",
      "504832.89\n",
      "\n",
      "798\n",
      "30\n",
      "504.832.89\n",
      "\n",
      "58\n",
      "370\n",
      "\n",
      "0297\n",
      "504.832.89\n",
      "\n",
      "75028\n",
      "501832.89\n",
      "\n",
      "500\n",
      "\n",
      "071\n",
      "\n",
      "7\n",
      "\n",
      "04.832-86\n",
      "\n",
      "5\n",
      "\n",
      "3\n",
      "03.932.89\n",
      "\n",
      "01.37.89\n",
      "\n",
      "\n",
      "-\n",
      "\n",
      "7\n",
      "\n",
      "503.972.09\n",
      "\n",
      "\n",
      "504.23289\n",
      "\n",
      "\n",
      "\n"
     ]
    },
    {
     "ename": "KeyboardInterrupt",
     "evalue": "",
     "output_type": "error",
     "traceback": [
      "\u001b[1;31m---------------------------------------------------------------------------\u001b[0m",
      "\u001b[1;31mKeyboardInterrupt\u001b[0m                         Traceback (most recent call last)",
      "Cell \u001b[1;32mIn [41], line 13\u001b[0m\n\u001b[0;32m     11\u001b[0m     \u001b[39mbreak\u001b[39;00m\n\u001b[0;32m     12\u001b[0m \u001b[39m#pic = get_contours(frame)\u001b[39;00m\n\u001b[1;32m---> 13\u001b[0m text \u001b[39m=\u001b[39m getText2(frame[\u001b[39m500\u001b[39;49m:\u001b[39m1020\u001b[39;49m,\u001b[39m1080\u001b[39;49m:\u001b[39m1680\u001b[39;49m], \u001b[39mTrue\u001b[39;49;00m)\n\u001b[0;32m     14\u001b[0m \u001b[39mprint\u001b[39m(text)\n\u001b[0;32m     15\u001b[0m framenbr \u001b[39m+\u001b[39m\u001b[39m=\u001b[39m \u001b[39m1\u001b[39m\n",
      "Cell \u001b[1;32mIn [39], line 16\u001b[0m, in \u001b[0;36mgetText2\u001b[1;34m(name, fileIsImage)\u001b[0m\n\u001b[0;32m     14\u001b[0m cv2\u001b[39m.\u001b[39mimwrite(\u001b[39m\"\u001b[39m\u001b[39mtransformed.png\u001b[39m\u001b[39m\"\u001b[39m, thresh)\n\u001b[0;32m     15\u001b[0m \u001b[39m# Using tesseract to extract numbers\u001b[39;00m\n\u001b[1;32m---> 16\u001b[0m txt \u001b[39m=\u001b[39m pytesseract\u001b[39m.\u001b[39;49mimage_to_string(thresh, config\u001b[39m=\u001b[39;49m\u001b[39m\"\u001b[39;49m\u001b[39m--psm 6 digits\u001b[39;49m\u001b[39m\"\u001b[39;49m)\n\u001b[0;32m     17\u001b[0m \u001b[39mreturn\u001b[39;00m txt\n",
      "File \u001b[1;32mc:\\Users\\Eric\\AppData\\Local\\Programs\\Python\\Python311\\Lib\\site-packages\\pytesseract\\pytesseract.py:423\u001b[0m, in \u001b[0;36mimage_to_string\u001b[1;34m(image, lang, config, nice, output_type, timeout)\u001b[0m\n\u001b[0;32m    418\u001b[0m \u001b[39m\"\"\"\u001b[39;00m\n\u001b[0;32m    419\u001b[0m \u001b[39mReturns the result of a Tesseract OCR run on the provided image to string\u001b[39;00m\n\u001b[0;32m    420\u001b[0m \u001b[39m\"\"\"\u001b[39;00m\n\u001b[0;32m    421\u001b[0m args \u001b[39m=\u001b[39m [image, \u001b[39m'\u001b[39m\u001b[39mtxt\u001b[39m\u001b[39m'\u001b[39m, lang, config, nice, timeout]\n\u001b[1;32m--> 423\u001b[0m \u001b[39mreturn\u001b[39;00m {\n\u001b[0;32m    424\u001b[0m     Output\u001b[39m.\u001b[39;49mBYTES: \u001b[39mlambda\u001b[39;49;00m: run_and_get_output(\u001b[39m*\u001b[39;49m(args \u001b[39m+\u001b[39;49m [\u001b[39mTrue\u001b[39;49;00m])),\n\u001b[0;32m    425\u001b[0m     Output\u001b[39m.\u001b[39;49mDICT: \u001b[39mlambda\u001b[39;49;00m: {\u001b[39m'\u001b[39;49m\u001b[39mtext\u001b[39;49m\u001b[39m'\u001b[39;49m: run_and_get_output(\u001b[39m*\u001b[39;49margs)},\n\u001b[0;32m    426\u001b[0m     Output\u001b[39m.\u001b[39;49mSTRING: \u001b[39mlambda\u001b[39;49;00m: run_and_get_output(\u001b[39m*\u001b[39;49margs),\n\u001b[0;32m    427\u001b[0m }[output_type]()\n",
      "File \u001b[1;32mc:\\Users\\Eric\\AppData\\Local\\Programs\\Python\\Python311\\Lib\\site-packages\\pytesseract\\pytesseract.py:426\u001b[0m, in \u001b[0;36mimage_to_string.<locals>.<lambda>\u001b[1;34m()\u001b[0m\n\u001b[0;32m    418\u001b[0m \u001b[39m\"\"\"\u001b[39;00m\n\u001b[0;32m    419\u001b[0m \u001b[39mReturns the result of a Tesseract OCR run on the provided image to string\u001b[39;00m\n\u001b[0;32m    420\u001b[0m \u001b[39m\"\"\"\u001b[39;00m\n\u001b[0;32m    421\u001b[0m args \u001b[39m=\u001b[39m [image, \u001b[39m'\u001b[39m\u001b[39mtxt\u001b[39m\u001b[39m'\u001b[39m, lang, config, nice, timeout]\n\u001b[0;32m    423\u001b[0m \u001b[39mreturn\u001b[39;00m {\n\u001b[0;32m    424\u001b[0m     Output\u001b[39m.\u001b[39mBYTES: \u001b[39mlambda\u001b[39;00m: run_and_get_output(\u001b[39m*\u001b[39m(args \u001b[39m+\u001b[39m [\u001b[39mTrue\u001b[39;00m])),\n\u001b[0;32m    425\u001b[0m     Output\u001b[39m.\u001b[39mDICT: \u001b[39mlambda\u001b[39;00m: {\u001b[39m'\u001b[39m\u001b[39mtext\u001b[39m\u001b[39m'\u001b[39m: run_and_get_output(\u001b[39m*\u001b[39margs)},\n\u001b[1;32m--> 426\u001b[0m     Output\u001b[39m.\u001b[39mSTRING: \u001b[39mlambda\u001b[39;00m: run_and_get_output(\u001b[39m*\u001b[39;49margs),\n\u001b[0;32m    427\u001b[0m }[output_type]()\n",
      "File \u001b[1;32mc:\\Users\\Eric\\AppData\\Local\\Programs\\Python\\Python311\\Lib\\site-packages\\pytesseract\\pytesseract.py:288\u001b[0m, in \u001b[0;36mrun_and_get_output\u001b[1;34m(image, extension, lang, config, nice, timeout, return_bytes)\u001b[0m\n\u001b[0;32m    277\u001b[0m \u001b[39mwith\u001b[39;00m save(image) \u001b[39mas\u001b[39;00m (temp_name, input_filename):\n\u001b[0;32m    278\u001b[0m     kwargs \u001b[39m=\u001b[39m {\n\u001b[0;32m    279\u001b[0m         \u001b[39m'\u001b[39m\u001b[39minput_filename\u001b[39m\u001b[39m'\u001b[39m: input_filename,\n\u001b[0;32m    280\u001b[0m         \u001b[39m'\u001b[39m\u001b[39moutput_filename_base\u001b[39m\u001b[39m'\u001b[39m: temp_name,\n\u001b[1;32m   (...)\u001b[0m\n\u001b[0;32m    285\u001b[0m         \u001b[39m'\u001b[39m\u001b[39mtimeout\u001b[39m\u001b[39m'\u001b[39m: timeout,\n\u001b[0;32m    286\u001b[0m     }\n\u001b[1;32m--> 288\u001b[0m     run_tesseract(\u001b[39m*\u001b[39;49m\u001b[39m*\u001b[39;49mkwargs)\n\u001b[0;32m    289\u001b[0m     filename \u001b[39m=\u001b[39m \u001b[39mf\u001b[39m\u001b[39m\"\u001b[39m\u001b[39m{\u001b[39;00mkwargs[\u001b[39m'\u001b[39m\u001b[39moutput_filename_base\u001b[39m\u001b[39m'\u001b[39m]\u001b[39m}\u001b[39;00m\u001b[39m{\u001b[39;00mextsep\u001b[39m}\u001b[39;00m\u001b[39m{\u001b[39;00mextension\u001b[39m}\u001b[39;00m\u001b[39m\"\u001b[39m\n\u001b[0;32m    290\u001b[0m     \u001b[39mwith\u001b[39;00m \u001b[39mopen\u001b[39m(filename, \u001b[39m'\u001b[39m\u001b[39mrb\u001b[39m\u001b[39m'\u001b[39m) \u001b[39mas\u001b[39;00m output_file:\n",
      "File \u001b[1;32mc:\\Users\\Eric\\AppData\\Local\\Programs\\Python\\Python311\\Lib\\site-packages\\pytesseract\\pytesseract.py:262\u001b[0m, in \u001b[0;36mrun_tesseract\u001b[1;34m(input_filename, output_filename_base, extension, lang, config, nice, timeout)\u001b[0m\n\u001b[0;32m    259\u001b[0m     \u001b[39melse\u001b[39;00m:\n\u001b[0;32m    260\u001b[0m         \u001b[39mraise\u001b[39;00m TesseractNotFoundError()\n\u001b[1;32m--> 262\u001b[0m \u001b[39mwith\u001b[39;49;00m timeout_manager(proc, timeout) \u001b[39mas\u001b[39;49;00m error_string:\n\u001b[0;32m    263\u001b[0m     \u001b[39mif\u001b[39;49;00m proc\u001b[39m.\u001b[39;49mreturncode:\n\u001b[0;32m    264\u001b[0m         \u001b[39mraise\u001b[39;49;00m TesseractError(proc\u001b[39m.\u001b[39;49mreturncode, get_errors(error_string))\n",
      "File \u001b[1;32mc:\\Users\\Eric\\AppData\\Local\\Programs\\Python\\Python311\\Lib\\contextlib.py:137\u001b[0m, in \u001b[0;36m_GeneratorContextManager.__enter__\u001b[1;34m(self)\u001b[0m\n\u001b[0;32m    135\u001b[0m \u001b[39mdel\u001b[39;00m \u001b[39mself\u001b[39m\u001b[39m.\u001b[39margs, \u001b[39mself\u001b[39m\u001b[39m.\u001b[39mkwds, \u001b[39mself\u001b[39m\u001b[39m.\u001b[39mfunc\n\u001b[0;32m    136\u001b[0m \u001b[39mtry\u001b[39;00m:\n\u001b[1;32m--> 137\u001b[0m     \u001b[39mreturn\u001b[39;00m \u001b[39mnext\u001b[39m(\u001b[39mself\u001b[39m\u001b[39m.\u001b[39mgen)\n\u001b[0;32m    138\u001b[0m \u001b[39mexcept\u001b[39;00m \u001b[39mStopIteration\u001b[39;00m:\n\u001b[0;32m    139\u001b[0m     \u001b[39mraise\u001b[39;00m \u001b[39mRuntimeError\u001b[39;00m(\u001b[39m\"\u001b[39m\u001b[39mgenerator didn\u001b[39m\u001b[39m'\u001b[39m\u001b[39mt yield\u001b[39m\u001b[39m\"\u001b[39m) \u001b[39mfrom\u001b[39;00m \u001b[39mNone\u001b[39m\n",
      "File \u001b[1;32mc:\\Users\\Eric\\AppData\\Local\\Programs\\Python\\Python311\\Lib\\site-packages\\pytesseract\\pytesseract.py:127\u001b[0m, in \u001b[0;36mtimeout_manager\u001b[1;34m(proc, seconds)\u001b[0m\n\u001b[0;32m    125\u001b[0m \u001b[39mtry\u001b[39;00m:\n\u001b[0;32m    126\u001b[0m     \u001b[39mif\u001b[39;00m \u001b[39mnot\u001b[39;00m seconds:\n\u001b[1;32m--> 127\u001b[0m         \u001b[39myield\u001b[39;00m proc\u001b[39m.\u001b[39;49mcommunicate()[\u001b[39m1\u001b[39m]\n\u001b[0;32m    128\u001b[0m         \u001b[39mreturn\u001b[39;00m\n\u001b[0;32m    130\u001b[0m     \u001b[39mtry\u001b[39;00m:\n",
      "File \u001b[1;32mc:\\Users\\Eric\\AppData\\Local\\Programs\\Python\\Python311\\Lib\\subprocess.py:1205\u001b[0m, in \u001b[0;36mPopen.communicate\u001b[1;34m(self, input, timeout)\u001b[0m\n\u001b[0;32m   1202\u001b[0m     endtime \u001b[39m=\u001b[39m \u001b[39mNone\u001b[39;00m\n\u001b[0;32m   1204\u001b[0m \u001b[39mtry\u001b[39;00m:\n\u001b[1;32m-> 1205\u001b[0m     stdout, stderr \u001b[39m=\u001b[39m \u001b[39mself\u001b[39;49m\u001b[39m.\u001b[39;49m_communicate(\u001b[39minput\u001b[39;49m, endtime, timeout)\n\u001b[0;32m   1206\u001b[0m \u001b[39mexcept\u001b[39;00m \u001b[39mKeyboardInterrupt\u001b[39;00m:\n\u001b[0;32m   1207\u001b[0m     \u001b[39m# https://bugs.python.org/issue25942\u001b[39;00m\n\u001b[0;32m   1208\u001b[0m     \u001b[39m# See the detailed comment in .wait().\u001b[39;00m\n\u001b[0;32m   1209\u001b[0m     \u001b[39mif\u001b[39;00m timeout \u001b[39mis\u001b[39;00m \u001b[39mnot\u001b[39;00m \u001b[39mNone\u001b[39;00m:\n",
      "File \u001b[1;32mc:\\Users\\Eric\\AppData\\Local\\Programs\\Python\\Python311\\Lib\\subprocess.py:1579\u001b[0m, in \u001b[0;36mPopen._communicate\u001b[1;34m(self, input, endtime, orig_timeout)\u001b[0m\n\u001b[0;32m   1575\u001b[0m \u001b[39m# Wait for the reader threads, or time out.  If we time out, the\u001b[39;00m\n\u001b[0;32m   1576\u001b[0m \u001b[39m# threads remain reading and the fds left open in case the user\u001b[39;00m\n\u001b[0;32m   1577\u001b[0m \u001b[39m# calls communicate again.\u001b[39;00m\n\u001b[0;32m   1578\u001b[0m \u001b[39mif\u001b[39;00m \u001b[39mself\u001b[39m\u001b[39m.\u001b[39mstdout \u001b[39mis\u001b[39;00m \u001b[39mnot\u001b[39;00m \u001b[39mNone\u001b[39;00m:\n\u001b[1;32m-> 1579\u001b[0m     \u001b[39mself\u001b[39;49m\u001b[39m.\u001b[39;49mstdout_thread\u001b[39m.\u001b[39;49mjoin(\u001b[39mself\u001b[39;49m\u001b[39m.\u001b[39;49m_remaining_time(endtime))\n\u001b[0;32m   1580\u001b[0m     \u001b[39mif\u001b[39;00m \u001b[39mself\u001b[39m\u001b[39m.\u001b[39mstdout_thread\u001b[39m.\u001b[39mis_alive():\n\u001b[0;32m   1581\u001b[0m         \u001b[39mraise\u001b[39;00m TimeoutExpired(\u001b[39mself\u001b[39m\u001b[39m.\u001b[39margs, orig_timeout)\n",
      "File \u001b[1;32mc:\\Users\\Eric\\AppData\\Local\\Programs\\Python\\Python311\\Lib\\threading.py:1112\u001b[0m, in \u001b[0;36mThread.join\u001b[1;34m(self, timeout)\u001b[0m\n\u001b[0;32m   1109\u001b[0m     \u001b[39mraise\u001b[39;00m \u001b[39mRuntimeError\u001b[39;00m(\u001b[39m\"\u001b[39m\u001b[39mcannot join current thread\u001b[39m\u001b[39m\"\u001b[39m)\n\u001b[0;32m   1111\u001b[0m \u001b[39mif\u001b[39;00m timeout \u001b[39mis\u001b[39;00m \u001b[39mNone\u001b[39;00m:\n\u001b[1;32m-> 1112\u001b[0m     \u001b[39mself\u001b[39;49m\u001b[39m.\u001b[39;49m_wait_for_tstate_lock()\n\u001b[0;32m   1113\u001b[0m \u001b[39melse\u001b[39;00m:\n\u001b[0;32m   1114\u001b[0m     \u001b[39m# the behavior of a negative timeout isn't documented, but\u001b[39;00m\n\u001b[0;32m   1115\u001b[0m     \u001b[39m# historically .join(timeout=x) for x<0 has acted as if timeout=0\u001b[39;00m\n\u001b[0;32m   1116\u001b[0m     \u001b[39mself\u001b[39m\u001b[39m.\u001b[39m_wait_for_tstate_lock(timeout\u001b[39m=\u001b[39m\u001b[39mmax\u001b[39m(timeout, \u001b[39m0\u001b[39m))\n",
      "File \u001b[1;32mc:\\Users\\Eric\\AppData\\Local\\Programs\\Python\\Python311\\Lib\\threading.py:1132\u001b[0m, in \u001b[0;36mThread._wait_for_tstate_lock\u001b[1;34m(self, block, timeout)\u001b[0m\n\u001b[0;32m   1129\u001b[0m     \u001b[39mreturn\u001b[39;00m\n\u001b[0;32m   1131\u001b[0m \u001b[39mtry\u001b[39;00m:\n\u001b[1;32m-> 1132\u001b[0m     \u001b[39mif\u001b[39;00m lock\u001b[39m.\u001b[39;49macquire(block, timeout):\n\u001b[0;32m   1133\u001b[0m         lock\u001b[39m.\u001b[39mrelease()\n\u001b[0;32m   1134\u001b[0m         \u001b[39mself\u001b[39m\u001b[39m.\u001b[39m_stop()\n",
      "\u001b[1;31mKeyboardInterrupt\u001b[0m: "
     ]
    }
   ],
   "source": [
    "path = \"vid_1.MOV\"\n",
    "\n",
    "vidcap = cv2.VideoCapture(path)\n",
    "success,frame = vidcap.read()\n",
    "framenbr = 0\n",
    "\n",
    "while success:\n",
    "    cv2.imwrite(\"frame%d.png\" % framenbr, frame[500:1020,1080:1680]) \n",
    "    success,frame = vidcap.read()\n",
    "    if not success:\n",
    "        break\n",
    "    #pic = get_contours(frame)\n",
    "    text = getText2(frame[500:1020,1080:1680], True)\n",
    "    print(text)\n",
    "    framenbr += 1"
   ]
  },
  {
   "cell_type": "code",
   "execution_count": null,
   "metadata": {},
   "outputs": [
    {
     "name": "stdout",
     "output_type": "stream",
     "text": [
      "Not found\n",
      "Not found\n",
      "Not found\n",
      "Not found\n"
     ]
    }
   ],
   "source": [
    "searchID = '704.035.93'\n",
    "images = splitImage(mainImage)\n",
    "for image in images:\n",
    "    text = getText(image, True)\n",
    "    text = re.sub('[^\\d\\.]', '', text)\n",
    "    if(searchID in text):\n",
    "        print(\"Found\")\n",
    "        break\n",
    "    print(\"Not found\")"
   ]
  }
 ],
 "metadata": {
  "kernelspec": {
   "display_name": "Python 3.11.0 64-bit",
   "language": "python",
   "name": "python3"
  },
  "language_info": {
   "codemirror_mode": {
    "name": "ipython",
    "version": 3
   },
   "file_extension": ".py",
   "mimetype": "text/x-python",
   "name": "python",
   "nbconvert_exporter": "python",
   "pygments_lexer": "ipython3",
   "version": "3.11.0"
  },
  "orig_nbformat": 4,
  "vscode": {
   "interpreter": {
    "hash": "1024fc1c84d9d393894ff0ae508183bc66ab1dc33e63cfc602fbbf4a77e727ad"
   }
  }
 },
 "nbformat": 4,
 "nbformat_minor": 2
}
